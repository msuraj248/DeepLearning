{
  "nbformat": 4,
  "nbformat_minor": 0,
  "metadata": {
    "colab": {
      "name": "Untitled2.ipynb",
      "provenance": [],
      "collapsed_sections": [],
      "authorship_tag": "ABX9TyNexfJM+82GF18mId9Xtbmx",
      "include_colab_link": true
    },
    "kernelspec": {
      "name": "python3",
      "display_name": "Python 3"
    }
  },
  "cells": [
    {
      "cell_type": "markdown",
      "metadata": {
        "id": "view-in-github",
        "colab_type": "text"
      },
      "source": [
        "<a href=\"https://colab.research.google.com/github/msuraj248/DeepLearning/blob/master/CNNmnist.ipynb\" target=\"_parent\"><img src=\"https://colab.research.google.com/assets/colab-badge.svg\" alt=\"Open In Colab\"/></a>"
      ]
    },
    {
      "cell_type": "code",
      "metadata": {
        "id": "1PywclcMHVDH",
        "colab_type": "code",
        "colab": {}
      },
      "source": [
        "pip install tensorflow==1.15"
      ],
      "execution_count": null,
      "outputs": []
    },
    {
      "cell_type": "code",
      "metadata": {
        "id": "IAQ0E5p2Xh4k",
        "colab_type": "code",
        "colab": {}
      },
      "source": [
        "import tensorflow as tf\n",
        "from tensorflow.examples.tutorials.mnist import input_data"
      ],
      "execution_count": null,
      "outputs": []
    },
    {
      "cell_type": "code",
      "metadata": {
        "id": "q61_zOGeux0c",
        "colab_type": "code",
        "colab": {}
      },
      "source": [
        "init = tf.global_variables_initializer()\n",
        "with tf.Session() as sess:\n",
        "  sess.run(init)"
      ],
      "execution_count": 31,
      "outputs": []
    },
    {
      "cell_type": "code",
      "metadata": {
        "id": "B6BRFkMjjVBt",
        "colab_type": "code",
        "colab": {
          "base_uri": "https://localhost:8080/",
          "height": 85
        },
        "outputId": "6fbdf879-3330-4c3c-aca6-2cf1dc116042"
      },
      "source": [
        "mnist = input_data.read_data_sets(\"mnist_data/\",one_hot=True)"
      ],
      "execution_count": 29,
      "outputs": [
        {
          "output_type": "stream",
          "text": [
            "Extracting mnist_data/train-images-idx3-ubyte.gz\n",
            "Extracting mnist_data/train-labels-idx1-ubyte.gz\n",
            "Extracting mnist_data/t10k-images-idx3-ubyte.gz\n",
            "Extracting mnist_data/t10k-labels-idx1-ubyte.gz\n"
          ],
          "name": "stdout"
        }
      ]
    },
    {
      "cell_type": "code",
      "metadata": {
        "id": "dnEEn9wRtWOR",
        "colab_type": "code",
        "colab": {}
      },
      "source": [
        "def init_weight(shape):\n",
        "  init_random_dist = tf.truncated_normal(shape, stddev=1.0)\n",
        "  return tf.Variable(init_random_dist)"
      ],
      "execution_count": 30,
      "outputs": []
    },
    {
      "cell_type": "code",
      "metadata": {
        "id": "nHMHODbOvD3J",
        "colab_type": "code",
        "colab": {}
      },
      "source": [
        "def init_bias(shape):\n",
        "  init_bias_val = tf.constant(value=0.1, shape=shape)\n",
        "  return tf.Variable(init_bias_val)"
      ],
      "execution_count": 33,
      "outputs": []
    },
    {
      "cell_type": "code",
      "metadata": {
        "id": "p2kKBzAx04Zm",
        "colab_type": "code",
        "colab": {}
      },
      "source": [
        "def conv2d(x,w):\n",
        "  return tf.nn.conv2d(x,filters = w,strides=[1,1,1,1],padding='SAME')"
      ],
      "execution_count": 44,
      "outputs": []
    },
    {
      "cell_type": "code",
      "metadata": {
        "id": "gTTkz23dwWHn",
        "colab_type": "code",
        "colab": {}
      },
      "source": [
        "def max_pool_2by2(x):\n",
        "  return tf.nn.max_pool(x,ksize=[1,2,2,1], strides=[1,2,2,1],padding='SAME')"
      ],
      "execution_count": 35,
      "outputs": []
    },
    {
      "cell_type": "code",
      "metadata": {
        "id": "oQSEDvS3wwKn",
        "colab_type": "code",
        "colab": {}
      },
      "source": [
        "def convolutional_layers(input_x, shape):\n",
        "  w = init_weight(shape)\n",
        "  b = init_bias([shape[3]])\n",
        "  return tf.nn.relu(conv2d(input_x, w) + b)"
      ],
      "execution_count": 37,
      "outputs": []
    },
    {
      "cell_type": "code",
      "metadata": {
        "id": "D128xOUFxbhk",
        "colab_type": "code",
        "colab": {}
      },
      "source": [
        "def normal_full_layer(input_layer, size):\n",
        "  input_size = int(input_layer.get_shape()[1])\n",
        "  w = init_weight([input_size, size])\n",
        "  b = init_bias([size])\n",
        "  return tf.matmul(input_layer,w) + b"
      ],
      "execution_count": 38,
      "outputs": []
    },
    {
      "cell_type": "code",
      "metadata": {
        "id": "7AMZi8aqzWCS",
        "colab_type": "code",
        "colab": {}
      },
      "source": [
        "x = tf.placeholder(tf.float32, shape =[None, 784])\n",
        "y_true = tf.placeholder(tf.float32, shape=[None,10])"
      ],
      "execution_count": 41,
      "outputs": []
    },
    {
      "cell_type": "code",
      "metadata": {
        "id": "xpE_rfSSz89A",
        "colab_type": "code",
        "colab": {}
      },
      "source": [
        "x_image = tf.reshape(x,shape=[-1,28,28,1])\n",
        "convo_1 = convolutional_layers(x_image, shape=[6,6,1,32])\n",
        "convo_1_pooling = max_pool_2by2(convo_1)"
      ],
      "execution_count": 45,
      "outputs": []
    },
    {
      "cell_type": "code",
      "metadata": {
        "id": "qlTDpuSY08jd",
        "colab_type": "code",
        "colab": {}
      },
      "source": [
        "convo_2 = convolutional_layers(convo_1_pooling,shape=[6,6,32,64])\n",
        "convo_2_pooling = max_pool_2by2(convo_2)"
      ],
      "execution_count": 50,
      "outputs": []
    },
    {
      "cell_type": "code",
      "metadata": {
        "id": "YgKSLJ3o1zCc",
        "colab_type": "code",
        "colab": {}
      },
      "source": [
        "convo_2_flat = tf.reshape(convo_2_pooling, shape=[-1,7*7*64])\n",
        "full_layer_one = tf.nn.relu(normal_full_layer(convo_2_flat,1024))"
      ],
      "execution_count": 51,
      "outputs": []
    },
    {
      "cell_type": "code",
      "metadata": {
        "id": "ResmEklN2qkU",
        "colab_type": "code",
        "colab": {}
      },
      "source": [
        "hold_prob = tf.placeholder(tf.float32)\n",
        "full_one_dropout = tf.nn.dropout(full_layer_one,rate = hold_prob)"
      ],
      "execution_count": 56,
      "outputs": []
    },
    {
      "cell_type": "code",
      "metadata": {
        "id": "xxAni7-t-MMt",
        "colab_type": "code",
        "colab": {}
      },
      "source": [
        "y_pred = normal_full_layer(full_one_dropout,10)\n",
        "cross_entrophy = tf.reduce_mean(tf.nn.softmax_cross_entropy_with_logits(labels=y_true,logits=y_pred))"
      ],
      "execution_count": 58,
      "outputs": []
    },
    {
      "cell_type": "code",
      "metadata": {
        "id": "Viztmw7z-SDq",
        "colab_type": "code",
        "colab": {}
      },
      "source": [
        "optimizer = tf.train.AdamOptimizer(learning_rate=0.001)\n",
        "train = optimizer.minimize(cross_entrophy)"
      ],
      "execution_count": 59,
      "outputs": []
    },
    {
      "cell_type": "code",
      "metadata": {
        "id": "eNtgKC2u_Roq",
        "colab_type": "code",
        "colab": {}
      },
      "source": [
        "init = tf.global_variables_initializer()"
      ],
      "execution_count": 60,
      "outputs": []
    },
    {
      "cell_type": "code",
      "metadata": {
        "id": "GKWhESJsWQQN",
        "colab_type": "code",
        "colab": {
          "base_uri": "https://localhost:8080/",
          "height": 867
        },
        "outputId": "7ef4156d-b3d0-40fe-b676-1942db50163a"
      },
      "source": [
        "steps = 100\n",
        "with tf.Session() as sess:\n",
        "  sess.run(init)\n",
        "  for i in range(steps):\n",
        "    batch_x , batch_y = mnist.train.next_batch(50) \n",
        "    sess.run(train,feed_dict={x:batch_x,y_true:batch_y,hold_prob:0.5})\n",
        "    # PRINT OUT A MESSAGE EVERY 100 STEPS\n",
        "    if i%10 == 0:\n",
        "      print('Currently on step {}'.format(i))\n",
        "      print('Accuracy is:')\n",
        "      # Test the Train Model\n",
        "      matches = tf.equal(tf.argmax(y_pred,1),tf.argmax(y_true,1))\n",
        "      acc = tf.reduce_mean(tf.cast(matches,tf.float32))\n",
        "\n",
        "      print(sess.run(acc,feed_dict={x:mnist.test.images,y_true:mnist.test.labels,hold_prob:1.0}))\n",
        "      print('\\n')"
      ],
      "execution_count": 61,
      "outputs": [
        {
          "output_type": "stream",
          "text": [
            "Currently on step 0\n",
            "Accuracy is:\n",
            "0.098\n",
            "\n",
            "\n",
            "Currently on step 10\n",
            "Accuracy is:\n",
            "0.098\n",
            "\n",
            "\n",
            "Currently on step 20\n",
            "Accuracy is:\n",
            "0.098\n",
            "\n",
            "\n",
            "Currently on step 30\n",
            "Accuracy is:\n",
            "0.098\n",
            "\n",
            "\n",
            "Currently on step 40\n",
            "Accuracy is:\n",
            "0.098\n",
            "\n",
            "\n",
            "Currently on step 50\n",
            "Accuracy is:\n",
            "0.098\n",
            "\n",
            "\n",
            "Currently on step 60\n",
            "Accuracy is:\n",
            "0.098\n",
            "\n",
            "\n",
            "Currently on step 70\n",
            "Accuracy is:\n",
            "0.098\n",
            "\n",
            "\n",
            "Currently on step 80\n",
            "Accuracy is:\n",
            "0.098\n",
            "\n",
            "\n",
            "Currently on step 90\n",
            "Accuracy is:\n",
            "0.098\n",
            "\n",
            "\n"
          ],
          "name": "stdout"
        }
      ]
    }
  ]
}