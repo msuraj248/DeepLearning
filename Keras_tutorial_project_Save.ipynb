{
  "nbformat": 4,
  "nbformat_minor": 0,
  "metadata": {
    "colab": {
      "name": "Keras_tutorial.ipynb",
      "provenance": [],
      "authorship_tag": "ABX9TyOezB9ffW7NFSWEEWh7MwLK",
      "include_colab_link": true
    },
    "kernelspec": {
      "name": "python3",
      "display_name": "Python 3"
    }
  },
  "cells": [
    {
      "cell_type": "markdown",
      "metadata": {
        "id": "view-in-github",
        "colab_type": "text"
      },
      "source": [
        "<a href=\"https://colab.research.google.com/github/msuraj248/DeepLearning/blob/master/Keras_tutorial_project_Save.ipynb\" target=\"_parent\"><img src=\"https://colab.research.google.com/assets/colab-badge.svg\" alt=\"Open In Colab\"/></a>"
      ]
    },
    {
      "cell_type": "markdown",
      "metadata": {
        "id": "_Jcg4JZmbEYC",
        "colab_type": "text"
      },
      "source": [
        " **Save** **Model** **:** **Method1**"
      ]
    },
    {
      "cell_type": "code",
      "metadata": {
        "id": "33gm_QZw5RJh",
        "colab_type": "code",
        "colab": {}
      },
      "source": [
        "import os.path\n",
        "if os.file.isfile('models/medical_model.h5') is False:\n",
        "  model.save('models/medical_model.h5')"
      ],
      "execution_count": null,
      "outputs": []
    },
    {
      "cell_type": "code",
      "metadata": {
        "id": "CsWH_Si5as7P",
        "colab_type": "code",
        "colab": {}
      },
      "source": [
        "from tensorflow.keras.models import load_model\n",
        "new_model = load_model('models/medical_model.h5')\n",
        "new_model.summary()\n",
        "new_model.get_weights()\n",
        "new_model.optimizer"
      ],
      "execution_count": null,
      "outputs": []
    },
    {
      "cell_type": "markdown",
      "metadata": {
        "id": "7MxnLecqbpPJ",
        "colab_type": "text"
      },
      "source": [
        "**Save Model** **:** **Method2**(Using JSON)"
      ]
    },
    {
      "cell_type": "code",
      "metadata": {
        "id": "DIV9Z3-2bCT6",
        "colab_type": "code",
        "colab": {}
      },
      "source": [
        "# *save as json*\n",
        "json_string = model.to_json()\n",
        "\n",
        "# *save as yaml*\n",
        "yaml_string = model.to_yaml()"
      ],
      "execution_count": null,
      "outputs": []
    },
    {
      "cell_type": "code",
      "metadata": {
        "id": "BKPPZLppciOY",
        "colab_type": "code",
        "colab": {}
      },
      "source": [
        "# Load Json\n",
        "from tensorflow.keras.models import model_from_json\n",
        "model_architecture = model_from_json(json_string)\n",
        "\n",
        "# Load yaml\n",
        "from tensorflow.keras.models import model_from_yaml\n",
        "model_architecture = model_from_yaml(json_string)"
      ],
      "execution_count": null,
      "outputs": []
    },
    {
      "cell_type": "markdown",
      "metadata": {
        "id": "C6OftRDqdTcf",
        "colab_type": "text"
      },
      "source": [
        "**Method3: Save only weights**"
      ]
    },
    {
      "cell_type": "code",
      "metadata": {
        "id": "V9ovtOjNdHQf",
        "colab_type": "code",
        "colab": {}
      },
      "source": [
        "import os.path\n",
        "if os.file.isfile('models/my_model_weights.h5') is False:\n",
        "  model.save('models/my_model_weights.h5')"
      ],
      "execution_count": null,
      "outputs": []
    },
    {
      "cell_type": "code",
      "metadata": {
        "id": "Dk91bodbdnZ_",
        "colab_type": "code",
        "colab": {}
      },
      "source": [
        "model2 = Sequential([\n",
        "          Dense(16, input_shape = (1,), activation= 'relu'),\n",
        "          Dense(32, activation= 'relu'),\n",
        "          Dense(2, activation='softmax')\n",
        "])"
      ],
      "execution_count": null,
      "outputs": []
    },
    {
      "cell_type": "code",
      "metadata": {
        "id": "lBEd0_BYduRc",
        "colab_type": "code",
        "colab": {}
      },
      "source": [
        "model2.load_weights('models/my_model_weights.h5')\n",
        "model2.get_weights()"
      ],
      "execution_count": null,
      "outputs": []
    }
  ]
}