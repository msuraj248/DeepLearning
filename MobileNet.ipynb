{
  "nbformat": 4,
  "nbformat_minor": 0,
  "metadata": {
    "colab": {
      "name": "Untitled0.ipynb",
      "provenance": [],
      "collapsed_sections": [],
      "mount_file_id": "1AR3cIOk5E8Y1ZXvnk9K6rgrr9ARZc7PE",
      "authorship_tag": "ABX9TyMXVUYf3Psw9okiQt4bgOgW",
      "include_colab_link": true
    },
    "kernelspec": {
      "name": "python3",
      "display_name": "Python 3"
    }
  },
  "cells": [
    {
      "cell_type": "markdown",
      "metadata": {
        "id": "view-in-github",
        "colab_type": "text"
      },
      "source": [
        "<a href=\"https://colab.research.google.com/github/msuraj248/DeepLearning/blob/Keras/MobileNet.ipynb\" target=\"_parent\"><img src=\"https://colab.research.google.com/assets/colab-badge.svg\" alt=\"Open In Colab\"/></a>"
      ]
    },
    {
      "cell_type": "code",
      "metadata": {
        "id": "Ovr12vl8XSM7",
        "colab_type": "code",
        "colab": {}
      },
      "source": [
        "import tensorflow as tf\n",
        "from tensorflow import keras\n",
        "from tensorflow.keras.models import Model\n",
        "from tensorflow.keras.layers import Dense, Flatten, Activation\n",
        "from tensorflow.keras.preprocessing.image import ImageDataGenerator\n",
        "from tensorflow.keras.preprocessing import image\n",
        "from tensorflow.keras.metrics import categorical_crossentropy\n",
        "import numpy as np\n",
        "import matplotlib.pyplot as plt\n",
        "from tensorflow.keras.optimizers import Adam\n",
        "from tensorflow.keras.applications import imagenet_utils\n",
        "from sklearn.metrics import confusion_matrix"
      ],
      "execution_count": 2,
      "outputs": []
    },
    {
      "cell_type": "code",
      "metadata": {
        "id": "TzmXFZBFgboz",
        "colab_type": "code",
        "colab": {
          "base_uri": "https://localhost:8080/",
          "height": 51
        },
        "outputId": "6199ea55-5202-429c-8b29-56d341bf8ebf"
      },
      "source": [
        "mobile = tf.keras.applications.mobilenet.MobileNet()"
      ],
      "execution_count": 3,
      "outputs": [
        {
          "output_type": "stream",
          "text": [
            "Downloading data from https://storage.googleapis.com/tensorflow/keras-applications/mobilenet/mobilenet_1_0_224_tf.h5\n",
            "17227776/17225924 [==============================] - 1s 0us/step\n"
          ],
          "name": "stdout"
        }
      ]
    },
    {
      "cell_type": "code",
      "metadata": {
        "id": "bb9f5B-vg3k4",
        "colab_type": "code",
        "colab": {}
      },
      "source": [
        "def prepare_img(file):\n",
        "  path = 'MobiNet-Samples/'\n",
        "  img = image.load_img(path + file, target_size=(224,224))\n",
        "  img_array = image.img_to_array(img)\n",
        "  img_arr_expaded_dimens = np.expand_dims(img_array, axis = 0)\n",
        "  return tf.keras.applications.mobilenet.preprocess_input(img_arr_expaded_dimens)"
      ],
      "execution_count": 10,
      "outputs": []
    },
    {
      "cell_type": "code",
      "metadata": {
        "id": "LE3fQItQixq3",
        "colab_type": "code",
        "colab": {
          "base_uri": "https://localhost:8080/",
          "height": 217
        },
        "outputId": "d6d55909-0f79-475a-9922-4bb2d476ffc4"
      },
      "source": [
        "from IPython.display import Image\n",
        "Image(filename='MobiNet-Samples/img1.jpg', width=300, height=200)"
      ],
      "execution_count": 21,
      "outputs": [
        {
          "output_type": "execute_result",
          "data": {
            "image/jpeg": "[encoded data removed]",
            "text/plain": [
              "<IPython.core.display.Image object>"
            ]
          },
          "metadata": {
            "tags": [],
            "image/jpeg": {
              "width": 300,
              "height": 200
            }
          },
          "execution_count": 21
        }
      ]
    },
    {
      "cell_type": "code",
      "metadata": {
        "id": "KDVEs75hjeCL",
        "colab_type": "code",
        "colab": {
          "base_uri": "https://localhost:8080/",
          "height": 102
        },
        "outputId": "1fbaf217-faf0-43f5-9265-cbf06fc05a08"
      },
      "source": [
        "preprocessed_img = prepare_img('img1.jpg')\n",
        "predictions = mobile.predict(preprocessed_img)\n",
        "result = imagenet_utils.decode_predictions(predictions)\n",
        "result"
      ],
      "execution_count": 22,
      "outputs": [
        {
          "output_type": "execute_result",
          "data": {
            "text/plain": [
              "[[('n04120489', 'running_shoe', 0.9177647),\n",
              "  ('n03623198', 'knee_pad', 0.03532912),\n",
              "  ('n02910353', 'buckle', 0.016839644),\n",
              "  ('n03047690', 'clog', 0.0043311263),\n",
              "  ('n01768244', 'trilobite', 0.0043276995)]]"
            ]
          },
          "metadata": {
            "tags": []
          },
          "execution_count": 22
        }
      ]
    }
  ]
}