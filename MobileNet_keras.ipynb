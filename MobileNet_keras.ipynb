{
  "nbformat": 4,
  "nbformat_minor": 0,
  "metadata": {
    "colab": {
      "name": "Untitled0.ipynb",
      "provenance": [],
      "collapsed_sections": [],
      "mount_file_id": "1AR3cIOk5E8Y1ZXvnk9K6rgrr9ARZc7PE",
      "authorship_tag": "ABX9TyOCfp6zcawIoueeFz0VR2Qg",
      "include_colab_link": true
    },
    "kernelspec": {
      "name": "python3",
      "display_name": "Python 3"
    }
  },
  "cells": [
    {
      "cell_type": "markdown",
      "metadata": {
        "id": "view-in-github",
        "colab_type": "text"
      },
      "source": [
        "<a href=\"https://colab.research.google.com/github/msuraj248/DeepLearning/blob/master/MobileNet_keras.ipynb\" target=\"_parent\"><img src=\"https://colab.research.google.com/assets/colab-badge.svg\" alt=\"Open In Colab\"/></a>"
      ]
    },
    {
      "cell_type": "code",
      "metadata": {
        "id": "Ovr12vl8XSM7",
        "colab_type": "code",
        "colab": {}
      },
      "source": [
        "import tensorflow as tf\n",
        "from tensorflow import keras\n",
        "from tensorflow.keras.models import Sequential\n",
        "from tensorflow.keras.layers import Dense, Flatten, Activation\n",
        "from tensorflow.keras.preprocessing.image import ImageDataGenerator\n",
        "from tensorflow.keras.preprocessing import image\n",
        "from tensorflow.keras.metrics import categorical_crossentropy\n",
        "import numpy as np\n",
        "import matplotlib.pyplot as plt\n",
        "from tensorflow.keras.optimizers import Adam\n",
        "from tensorflow.keras.applications import imagenet_utils\n",
        "from sklearn.metrics import confusion_matrix"
      ],
      "execution_count": 1,
      "outputs": []
    },
    {
      "cell_type": "code",
      "metadata": {
        "id": "RJWL-Xx86DY9",
        "colab_type": "code",
        "colab": {}
      },
      "source": [
        "train_path = 'drive/My Drive/sign_language_dataset/train'\n",
        "valid_path = 'drive/My Drive/sign_language_dataset/valid'\n",
        "test_path = 'drive/My Drive/sign_language_dataset/test'"
      ],
      "execution_count": 2,
      "outputs": []
    },
    {
      "cell_type": "code",
      "metadata": {
        "id": "ALXLjo3z6hgr",
        "colab_type": "code",
        "colab": {
          "base_uri": "https://localhost:8080/",
          "height": 68
        },
        "outputId": "6a3d12e4-cb17-479c-d885-0e1b39fb7ed1"
      },
      "source": [
        "train_batch = ImageDataGenerator(preprocessing_function = tf.keras.applications.mobilenet.preprocess_input)\\\n",
        "                .flow_from_directory(directory =train_path, target_size = (224,224), batch_size = 10)\n",
        "valid_batch = ImageDataGenerator(preprocessing_function = tf.keras.applications.mobilenet.preprocess_input)\\\n",
        "                .flow_from_directory(directory =valid_path, target_size = (224,224), batch_size = 10)\n",
        "test_batch = ImageDataGenerator(preprocessing_function = tf.keras.applications.mobilenet.preprocess_input)\\\n",
        "                .flow_from_directory(directory =test_path, target_size = (224,224), batch_size = 10, shuffle = False)"
      ],
      "execution_count": 3,
      "outputs": [
        {
          "output_type": "stream",
          "text": [
            "Found 1712 images belonging to 10 classes.\n",
            "Found 300 images belonging to 10 classes.\n",
            "Found 50 images belonging to 10 classes.\n"
          ],
          "name": "stdout"
        }
      ]
    },
    {
      "cell_type": "code",
      "metadata": {
        "id": "S3s0zXpP84RF",
        "colab_type": "code",
        "colab": {
          "base_uri": "https://localhost:8080/",
          "height": 51
        },
        "outputId": "3a8fe98c-44b1-462e-ea2a-5e60ca63cb29"
      },
      "source": [
        "mobile_model = tf.keras.applications.mobilenet.MobileNet()"
      ],
      "execution_count": 4,
      "outputs": [
        {
          "output_type": "stream",
          "text": [
            "Downloading data from https://storage.googleapis.com/tensorflow/keras-applications/mobilenet/mobilenet_1_0_224_tf.h5\n",
            "17227776/17225924 [==============================] - 0s 0us/step\n"
          ],
          "name": "stdout"
        }
      ]
    },
    {
      "cell_type": "code",
      "metadata": {
        "id": "et5uW6qx9Jd9",
        "colab_type": "code",
        "colab": {}
      },
      "source": [
        "mobile.summary()"
      ],
      "execution_count": null,
      "outputs": []
    },
    {
      "cell_type": "code",
      "metadata": {
        "id": "4ABoUsMp9bKW",
        "colab_type": "code",
        "colab": {}
      },
      "source": [
        "model = Sequential()\n",
        "for layer in mobile_model.layers[:-1]:\n",
        "  model.add(layer)"
      ],
      "execution_count": 5,
      "outputs": []
    },
    {
      "cell_type": "code",
      "metadata": {
        "id": "FXrLx8ta-P4g",
        "colab_type": "code",
        "colab": {}
      },
      "source": [
        "for layer in model.layers:\n",
        "  layer.trainable == False"
      ],
      "execution_count": 6,
      "outputs": []
    },
    {
      "cell_type": "code",
      "metadata": {
        "id": "-tsw1zIq-dH7",
        "colab_type": "code",
        "colab": {}
      },
      "source": [
        "model.add(Dense(10, activation='softmax'))\n",
        "model.summary()"
      ],
      "execution_count": null,
      "outputs": []
    },
    {
      "cell_type": "code",
      "metadata": {
        "id": "mnGhwhDz-sz6",
        "colab_type": "code",
        "colab": {}
      },
      "source": [
        "model.compile(optimizer=Adam(learning_rate=0.0001), loss = 'categorical_crossentropy', metrics= ['accuracy'])"
      ],
      "execution_count": 8,
      "outputs": []
    },
    {
      "cell_type": "code",
      "metadata": {
        "id": "HyAh2eu1_FxL",
        "colab_type": "code",
        "colab": {
          "base_uri": "https://localhost:8080/",
          "height": 204
        },
        "outputId": "76b51b2f-0a6d-4801-a282-e44f645241c3"
      },
      "source": [
        "model.fit(x = train_batch, validation_data= valid_batch, epochs=5, verbose=2)"
      ],
      "execution_count": 9,
      "outputs": [
        {
          "output_type": "stream",
          "text": [
            "Epoch 1/5\n",
            "172/172 - 827s - loss: 0.9401 - accuracy: 0.7518 - val_loss: 0.5994 - val_accuracy: 0.8567\n",
            "Epoch 2/5\n",
            "172/172 - 346s - loss: 0.0959 - accuracy: 0.9661 - val_loss: 0.2877 - val_accuracy: 0.9367\n",
            "Epoch 3/5\n",
            "172/172 - 347s - loss: 0.0468 - accuracy: 0.9825 - val_loss: 0.1860 - val_accuracy: 0.9667\n",
            "Epoch 4/5\n",
            "172/172 - 348s - loss: 0.0330 - accuracy: 0.9883 - val_loss: 0.2071 - val_accuracy: 0.9600\n",
            "Epoch 5/5\n",
            "172/172 - 348s - loss: 0.0151 - accuracy: 0.9930 - val_loss: 0.1587 - val_accuracy: 0.9767\n"
          ],
          "name": "stdout"
        },
        {
          "output_type": "execute_result",
          "data": {
            "text/plain": [
              "<tensorflow.python.keras.callbacks.History at 0x7fd2fdcd6b00>"
            ]
          },
          "metadata": {
            "tags": []
          },
          "execution_count": 9
        }
      ]
    },
    {
      "cell_type": "code",
      "metadata": {
        "id": "1rgJVzyEAv7h",
        "colab_type": "code",
        "colab": {
          "base_uri": "https://localhost:8080/",
          "height": 68
        },
        "outputId": "b256c32c-6ecc-4bc1-f9ec-a06a72e00aed"
      },
      "source": [
        "predictions = model.predict(x = test_batch, verbose = 0)\n",
        "test_batch.classes"
      ],
      "execution_count": 10,
      "outputs": [
        {
          "output_type": "execute_result",
          "data": {
            "text/plain": [
              "array([0, 0, 0, 0, 0, 1, 1, 1, 1, 1, 2, 2, 2, 2, 2, 3, 3, 3, 3, 3, 4, 4,\n",
              "       4, 4, 4, 5, 5, 5, 5, 5, 6, 6, 6, 6, 6, 7, 7, 7, 7, 7, 8, 8, 8, 8,\n",
              "       8, 9, 9, 9, 9, 9], dtype=int32)"
            ]
          },
          "metadata": {
            "tags": []
          },
          "execution_count": 10
        }
      ]
    },
    {
      "cell_type": "code",
      "metadata": {
        "id": "e9qD2G8XBPa_",
        "colab_type": "code",
        "colab": {
          "base_uri": "https://localhost:8080/",
          "height": 187
        },
        "outputId": "586f8d20-3144-4034-dea3-a4847125ea72"
      },
      "source": [
        "cm = confusion_matrix(y_true = test_batch.classes, y_pred = np.argmax(predictions, axis = -1))\n",
        "cm"
      ],
      "execution_count": 11,
      "outputs": [
        {
          "output_type": "execute_result",
          "data": {
            "text/plain": [
              "array([[5, 0, 0, 0, 0, 0, 0, 0, 0, 0],\n",
              "       [0, 5, 0, 0, 0, 0, 0, 0, 0, 0],\n",
              "       [0, 0, 5, 0, 0, 0, 0, 0, 0, 0],\n",
              "       [0, 0, 0, 5, 0, 0, 0, 0, 0, 0],\n",
              "       [0, 0, 0, 0, 5, 0, 0, 0, 0, 0],\n",
              "       [0, 0, 0, 0, 0, 5, 0, 0, 0, 0],\n",
              "       [0, 0, 0, 0, 0, 0, 5, 0, 0, 0],\n",
              "       [0, 0, 0, 0, 0, 0, 0, 5, 0, 0],\n",
              "       [0, 0, 0, 0, 0, 0, 0, 0, 5, 0],\n",
              "       [0, 0, 0, 0, 0, 0, 0, 0, 0, 5]])"
            ]
          },
          "metadata": {
            "tags": []
          },
          "execution_count": 11
        }
      ]
    }
  ]
}