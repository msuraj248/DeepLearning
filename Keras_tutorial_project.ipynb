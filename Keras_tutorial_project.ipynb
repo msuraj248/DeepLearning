{
  "nbformat": 4,
  "nbformat_minor": 0,
  "metadata": {
    "colab": {
      "name": "Keras_tutorial.ipynb",
      "provenance": [],
      "authorship_tag": "ABX9TyO9Gy/H7PJZwQXAHPu21SwP",
      "include_colab_link": true
    },
    "kernelspec": {
      "name": "python3",
      "display_name": "Python 3"
    }
  },
  "cells": [
    {
      "cell_type": "markdown",
      "metadata": {
        "id": "view-in-github",
        "colab_type": "text"
      },
      "source": [
        "<a href=\"https://colab.research.google.com/github/msuraj248/DeepLearning/blob/Keras/Keras_tutorial_project.ipynb\" target=\"_parent\"><img src=\"https://colab.research.google.com/assets/colab-badge.svg\" alt=\"Open In Colab\"/></a>"
      ]
    },
    {
      "cell_type": "code",
      "metadata": {
        "id": "vw8hAnT8jyUZ",
        "colab_type": "code",
        "colab": {}
      },
      "source": [
        "import keras\n",
        "import numpy as np\n",
        "from random import randint\n",
        "from sklearn.utils import shuffle\n",
        "from sklearn.preprocessing import MinMaxScaler"
      ],
      "execution_count": 44,
      "outputs": []
    },
    {
      "cell_type": "code",
      "metadata": {
        "id": "B5x5AtmKl7Hx",
        "colab_type": "code",
        "colab": {}
      },
      "source": [
        "train_lables = []\n",
        "train_samples = []"
      ],
      "execution_count": 45,
      "outputs": []
    },
    {
      "cell_type": "code",
      "metadata": {
        "id": "Sa8aMBcPmTjv",
        "colab_type": "code",
        "colab": {}
      },
      "source": [
        "for i in range(50):\n",
        "  random_younger = randint(15,64)\n",
        "  train_samples.append(random_younger)\n",
        "  train_lables.append(1)\n",
        "\n",
        "  random_older = randint(65,100)\n",
        "  train_samples.append(random_older)\n",
        "  train_lables.append(0)\n",
        "\n",
        "for i in range(1000):\n",
        "  random_younger = randint(15,64)\n",
        "  train_samples.append(random_younger)\n",
        "  train_lables.append(0)\n",
        "\n",
        "  random_older = randint(65,100)\n",
        "  train_samples.append(random_older)\n",
        "  train_lables.append(1)"
      ],
      "execution_count": 49,
      "outputs": []
    },
    {
      "cell_type": "code",
      "metadata": {
        "id": "D1xFQhD0nz1O",
        "colab_type": "code",
        "colab": {}
      },
      "source": [
        "for i in train_lables:\n",
        "  print(i)"
      ],
      "execution_count": null,
      "outputs": []
    },
    {
      "cell_type": "code",
      "metadata": {
        "id": "M-sgj_pltkLr",
        "colab_type": "code",
        "colab": {}
      },
      "source": [
        "test_lables = []\n",
        "test_samples = []\n",
        "\n",
        "for i in range(50):\n",
        "  random_younger = randint(15,64)\n",
        "  test_samples.append(random_younger)\n",
        "  test_lables.append(1)\n",
        "\n",
        "  random_older = randint(65,100)\n",
        "  test_samples.append(random_older)\n",
        "  test_lables.append(0)\n",
        "\n",
        "for i in range(1000):\n",
        "  random_younger = randint(15,64)\n",
        "  test_samples.append(random_younger)\n",
        "  test_lables.append(0)\n",
        "\n",
        "  random_older = randint(65,100)\n",
        "  test_samples.append(random_older)\n",
        "  test_lables.append(1)"
      ],
      "execution_count": 62,
      "outputs": []
    },
    {
      "cell_type": "code",
      "metadata": {
        "id": "VQDzsUagonlq",
        "colab_type": "code",
        "colab": {}
      },
      "source": [
        "train_lables = np.array(train_lables)\n",
        "train_samples = np.array(train_samples)\n",
        "train_lables, train_samples = shuffle(train_lables, train_samples)"
      ],
      "execution_count": 52,
      "outputs": []
    },
    {
      "cell_type": "code",
      "metadata": {
        "id": "pG6ZIGdHpD9y",
        "colab_type": "code",
        "colab": {}
      },
      "source": [
        "scaler = MinMaxScaler(feature_range=(0,1))\n",
        "scaled_train_samples = scaler.fit_transform(train_samples.reshape(-1,1))\n",
        "for i in scaled_train_samples:\n",
        "  print(i)"
      ],
      "execution_count": null,
      "outputs": []
    },
    {
      "cell_type": "code",
      "metadata": {
        "id": "EIg5bTOPt78v",
        "colab_type": "code",
        "colab": {}
      },
      "source": [
        "test_lables = np.array(test_lables)\n",
        "test_samples = np.array(test_samples)\n",
        "test_lables, test_samples = shuffle(test_lables, test_samples)"
      ],
      "execution_count": 84,
      "outputs": []
    },
    {
      "cell_type": "code",
      "metadata": {
        "id": "FrzNon-OuJLa",
        "colab_type": "code",
        "colab": {}
      },
      "source": [
        "scaler = MinMaxScaler(feature_range=(0,1))\n",
        "scaled_test_samples = scaler.fit_transform(test_samples.reshape(-1,1))"
      ],
      "execution_count": 85,
      "outputs": []
    },
    {
      "cell_type": "code",
      "metadata": {
        "id": "mVX4W-GFfLcP",
        "colab_type": "code",
        "colab": {}
      },
      "source": [
        "import keras\n",
        "from keras.models import Sequential\n",
        "from keras.layers import Dense, Activation\n",
        "from keras.layers.convolutional import *\n",
        "from keras.optimizers import Adam\n",
        "from keras.layers.pooling import *\n",
        "from keras.utils import sh"
      ],
      "execution_count": 41,
      "outputs": []
    },
    {
      "cell_type": "code",
      "metadata": {
        "id": "QIc-JkmKfy3e",
        "colab_type": "code",
        "colab": {}
      },
      "source": [
        "model = Sequential([\n",
        "          Dense(16, input_shape = (1,), activation= 'relu'),\n",
        "          Dense(32, activation= 'relu'),\n",
        "          Dense(2, activation='softmax')\n",
        "])"
      ],
      "execution_count": 74,
      "outputs": []
    },
    {
      "cell_type": "code",
      "metadata": {
        "id": "efj5jXaMgjRU",
        "colab_type": "code",
        "colab": {}
      },
      "source": [
        "model.summary()"
      ],
      "execution_count": null,
      "outputs": []
    },
    {
      "cell_type": "code",
      "metadata": {
        "id": "RNAn6d2bibPh",
        "colab_type": "code",
        "colab": {}
      },
      "source": [
        "model.compile(optimizer=Adam(learning_rate=0.0001), loss='sparse_categorical_crossentropy', metrics='accuracy')\n",
        "model.fit(x = scaled_train_samples, y = train_lables, validation_split= 0.2 ,batch_size=10, epochs=15, shuffle=True, verbose=2)"
      ],
      "execution_count": null,
      "outputs": []
    },
    {
      "cell_type": "code",
      "metadata": {
        "id": "B8wmBioUsm3E",
        "colab_type": "code",
        "colab": {}
      },
      "source": [
        "prediction = model.predict(x = scaled_test_samples, batch_size=10, verbose=0)"
      ],
      "execution_count": 87,
      "outputs": []
    },
    {
      "cell_type": "code",
      "metadata": {
        "id": "6k_7y2ZQutIx",
        "colab_type": "code",
        "colab": {}
      },
      "source": [
        "for i in prediction:\n",
        "  print(i)"
      ],
      "execution_count": null,
      "outputs": []
    },
    {
      "cell_type": "code",
      "metadata": {
        "id": "-9JjgDh22Vc4",
        "colab_type": "code",
        "colab": {}
      },
      "source": [
        "rounded_prediction = np.argmax(prediction, axis= -1)"
      ],
      "execution_count": 88,
      "outputs": []
    },
    {
      "cell_type": "code",
      "metadata": {
        "id": "zdUpckV91mcx",
        "colab_type": "code",
        "colab": {}
      },
      "source": [
        "from sklearn.metrics import confusion_matrix\n",
        "import itertools\n",
        "import matplotlib.pyplot as plt\n",
        "%matplotlib inline"
      ],
      "execution_count": 93,
      "outputs": []
    },
    {
      "cell_type": "code",
      "metadata": {
        "id": "G3Jd9X9D198f",
        "colab_type": "code",
        "colab": {}
      },
      "source": [
        "cm = confusion_matrix(y_true = test_lables, y_pred= rounded_prediction)"
      ],
      "execution_count": 94,
      "outputs": []
    },
    {
      "cell_type": "code",
      "metadata": {
        "id": "ZzHISGO13drV",
        "colab_type": "code",
        "colab": {}
      },
      "source": [
        "def plot_confusion_matrix(cm, classes,\n",
        "                          normalize=False,\n",
        "                          title='Confusion matrix',\n",
        "                          cmap=plt.cm.Blues):\n",
        "    \"\"\"\n",
        "    This function prints and plots the confusion matrix.\n",
        "    Normalization can be applied by setting `normalize=True`.\n",
        "    \"\"\"\n",
        "    plt.imshow(cm, interpolation='nearest', cmap=cmap)\n",
        "    plt.title(title)\n",
        "    plt.colorbar()\n",
        "    tick_marks = np.arange(len(classes))\n",
        "    plt.xticks(tick_marks, classes, rotation=45)\n",
        "    plt.yticks(tick_marks, classes)\n",
        "\n",
        "    if normalize:\n",
        "        cm = cm.astype('float') / cm.sum(axis=1)[:, np.newaxis]\n",
        "        print(\"Normalized confusion matrix\")\n",
        "    else:\n",
        "        print('Confusion matrix, without normalization')\n",
        "\n",
        "    print(cm)\n",
        "\n",
        "    thresh = cm.max() / 2.\n",
        "    for i, j in itertools.product(range(cm.shape[0]), range(cm.shape[1])):\n",
        "        plt.text(j, i, cm[i, j],\n",
        "                 horizontalalignment=\"center\",\n",
        "                 color=\"white\" if cm[i, j] > thresh else \"black\")\n",
        "\n",
        "    plt.tight_layout()\n",
        "    plt.ylabel('True label')\n",
        "    plt.xlabel('Predicted label')"
      ],
      "execution_count": 96,
      "outputs": []
    },
    {
      "cell_type": "code",
      "metadata": {
        "id": "lCY3aFfX6WFV",
        "colab_type": "code",
        "colab": {
          "base_uri": "https://localhost:8080/",
          "height": 362
        },
        "outputId": "bb0c572b-638a-4d09-80fc-25c31a781ad6"
      },
      "source": [
        "cm_plot_lables= ['No_SideEffects', 'Has_side_effects']\n",
        "plot_confusion_matrix(cm=cm, classes = cm_plot_lables, title = 'Confusion_matrics')"
      ],
      "execution_count": 99,
      "outputs": [
        {
          "output_type": "stream",
          "text": [
            "Confusion matrix, without normalization\n",
            "[[ 959   91]\n",
            " [  48 1002]]\n"
          ],
          "name": "stdout"
        },
        {
          "output_type": "display_data",
          "data": {
            "image/png": "[encoded data removed]",
            "text/plain": [
              "<Figure size 432x288 with 2 Axes>"
            ]
          },
          "metadata": {
            "tags": [],
            "needs_background": "light"
          }
        }
      ]
    },
    {
      "cell_type": "code",
      "metadata": {
        "id": "33gm_QZw5RJh",
        "colab_type": "code",
        "colab": {}
      },
      "source": [
        ""
      ],
      "execution_count": null,
      "outputs": []
    }
  ]
}