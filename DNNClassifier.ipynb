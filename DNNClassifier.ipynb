{
  "nbformat": 4,
  "nbformat_minor": 0,
  "metadata": {
    "colab": {
      "name": "Untitled1.ipynb",
      "provenance": [],
      "mount_file_id": "1gDSVZVdxPfmASqcA33nf5gJfB8j_Mxgu",
      "authorship_tag": "ABX9TyNWjB4HJL4PARzs4LGtB94x",
      "include_colab_link": true
    },
    "kernelspec": {
      "name": "python3",
      "display_name": "Python 3"
    }
  },
  "cells": [
    {
      "cell_type": "markdown",
      "metadata": {
        "id": "view-in-github",
        "colab_type": "text"
      },
      "source": [
        "<a href=\"https://colab.research.google.com/github/msuraj248/DeepLearning/blob/master/DNNClassifier.ipynb\" target=\"_parent\"><img src=\"https://colab.research.google.com/assets/colab-badge.svg\" alt=\"Open In Colab\"/></a>"
      ]
    },
    {
      "cell_type": "code",
      "metadata": {
        "id": "oL-VyBe7GpDQ"
      },
      "source": [
        "from google.colab import files\n",
        "uploaded = files.upload()"
      ],
      "execution_count": null,
      "outputs": []
    },
    {
      "cell_type": "code",
      "metadata": {
        "id": "VP3SDMEUJFec",
        "outputId": "38a5c3a7-d81c-4806-b13c-478bfc45e04f",
        "colab": {
          "base_uri": "https://localhost:8080/",
          "height": 111
        }
      },
      "source": [
        "import pandas as pd\n",
        "data = pd.read_csv('bank_note_data.csv')\n",
        "data.head(2)"
      ],
      "execution_count": 132,
      "outputs": [
        {
          "output_type": "execute_result",
          "data": {
            "text/html": [
              "<div>\n",
              "<style scoped>\n",
              "    .dataframe tbody tr th:only-of-type {\n",
              "        vertical-align: middle;\n",
              "    }\n",
              "\n",
              "    .dataframe tbody tr th {\n",
              "        vertical-align: top;\n",
              "    }\n",
              "\n",
              "    .dataframe thead th {\n",
              "        text-align: right;\n",
              "    }\n",
              "</style>\n",
              "<table border=\"1\" class=\"dataframe\">\n",
              "  <thead>\n",
              "    <tr style=\"text-align: right;\">\n",
              "      <th></th>\n",
              "      <th>Image.Var</th>\n",
              "      <th>Image.Skew</th>\n",
              "      <th>Image.Curt</th>\n",
              "      <th>Entropy</th>\n",
              "      <th>Class</th>\n",
              "    </tr>\n",
              "  </thead>\n",
              "  <tbody>\n",
              "    <tr>\n",
              "      <th>0</th>\n",
              "      <td>3.6216</td>\n",
              "      <td>8.6661</td>\n",
              "      <td>-2.8073</td>\n",
              "      <td>-0.44699</td>\n",
              "      <td>0</td>\n",
              "    </tr>\n",
              "    <tr>\n",
              "      <th>1</th>\n",
              "      <td>4.5459</td>\n",
              "      <td>8.1674</td>\n",
              "      <td>-2.4586</td>\n",
              "      <td>-1.46210</td>\n",
              "      <td>0</td>\n",
              "    </tr>\n",
              "  </tbody>\n",
              "</table>\n",
              "</div>"
            ],
            "text/plain": [
              "   Image.Var  Image.Skew  Image.Curt  Entropy  Class\n",
              "0     3.6216      8.6661     -2.8073 -0.44699      0\n",
              "1     4.5459      8.1674     -2.4586 -1.46210      0"
            ]
          },
          "metadata": {
            "tags": []
          },
          "execution_count": 132
        }
      ]
    },
    {
      "cell_type": "code",
      "metadata": {
        "id": "WWAVYG9PKIhG"
      },
      "source": [
        "import seaborn as sns\n",
        "import matplotlib as plt\n",
        "%matplotlib inline"
      ],
      "execution_count": 133,
      "outputs": []
    },
    {
      "cell_type": "code",
      "metadata": {
        "id": "mq4WswhsKqdM"
      },
      "source": [
        "import tensorflow.compat.v1 as tf"
      ],
      "execution_count": 134,
      "outputs": []
    },
    {
      "cell_type": "code",
      "metadata": {
        "id": "5ZbgVfoDfEw_",
        "outputId": "fbcfff3a-e65c-40a4-8435-4670e7aa49b4",
        "colab": {
          "base_uri": "https://localhost:8080/",
          "height": 300
        }
      },
      "source": [
        "sns.countplot(data=data,x=\"Class\")"
      ],
      "execution_count": 58,
      "outputs": [
        {
          "output_type": "execute_result",
          "data": {
            "text/plain": [
              "<matplotlib.axes._subplots.AxesSubplot at 0x7fa03f5e6668>"
            ]
          },
          "metadata": {
            "tags": []
          },
          "execution_count": 58
        },
        {
          "output_type": "display_data",
          "data": {
            "image/png": "[encoded data removed]",
            "text/plain": [
              "<Figure size 432x288 with 1 Axes>"
            ]
          },
          "metadata": {
            "tags": [],
            "needs_background": "light"
          }
        }
      ]
    },
    {
      "cell_type": "code",
      "metadata": {
        "id": "i4_K5Ic_K84c"
      },
      "source": [
        "from sklearn.preprocessing import StandardScaler\n",
        "scaler = StandardScaler()"
      ],
      "execution_count": 135,
      "outputs": []
    },
    {
      "cell_type": "code",
      "metadata": {
        "id": "hB0aHNSVMB9c",
        "outputId": "a28c0881-df27-4089-a8b0-c487c6b5f8c5",
        "colab": {
          "base_uri": "https://localhost:8080/",
          "height": 34
        }
      },
      "source": [
        "x = data.drop(\"Class\",axis=1)\n",
        "scaler.fit(x)"
      ],
      "execution_count": 136,
      "outputs": [
        {
          "output_type": "execute_result",
          "data": {
            "text/plain": [
              "StandardScaler(copy=True, with_mean=True, with_std=True)"
            ]
          },
          "metadata": {
            "tags": []
          },
          "execution_count": 136
        }
      ]
    },
    {
      "cell_type": "code",
      "metadata": {
        "id": "8oPJZRcfMT1S"
      },
      "source": [
        "scaled_fea = scaler.fit_transform(x)"
      ],
      "execution_count": 137,
      "outputs": []
    },
    {
      "cell_type": "code",
      "metadata": {
        "id": "ScuAvdqMNnV4",
        "outputId": "97ca7156-eb24-4acf-abb6-695dcf9c07a5",
        "colab": {
          "base_uri": "https://localhost:8080/",
          "height": 111
        }
      },
      "source": [
        "df_1=pd.DataFrame(scaled_fea,columns=data.columns[:-1])\n",
        "df_1.head(2)"
      ],
      "execution_count": 138,
      "outputs": [
        {
          "output_type": "execute_result",
          "data": {
            "text/html": [
              "<div>\n",
              "<style scoped>\n",
              "    .dataframe tbody tr th:only-of-type {\n",
              "        vertical-align: middle;\n",
              "    }\n",
              "\n",
              "    .dataframe tbody tr th {\n",
              "        vertical-align: top;\n",
              "    }\n",
              "\n",
              "    .dataframe thead th {\n",
              "        text-align: right;\n",
              "    }\n",
              "</style>\n",
              "<table border=\"1\" class=\"dataframe\">\n",
              "  <thead>\n",
              "    <tr style=\"text-align: right;\">\n",
              "      <th></th>\n",
              "      <th>Image.Var</th>\n",
              "      <th>Image.Skew</th>\n",
              "      <th>Image.Curt</th>\n",
              "      <th>Entropy</th>\n",
              "    </tr>\n",
              "  </thead>\n",
              "  <tbody>\n",
              "    <tr>\n",
              "      <th>0</th>\n",
              "      <td>1.121806</td>\n",
              "      <td>1.149455</td>\n",
              "      <td>-0.975970</td>\n",
              "      <td>0.354561</td>\n",
              "    </tr>\n",
              "    <tr>\n",
              "      <th>1</th>\n",
              "      <td>1.447066</td>\n",
              "      <td>1.064453</td>\n",
              "      <td>-0.895036</td>\n",
              "      <td>-0.128767</td>\n",
              "    </tr>\n",
              "  </tbody>\n",
              "</table>\n",
              "</div>"
            ],
            "text/plain": [
              "   Image.Var  Image.Skew  Image.Curt   Entropy\n",
              "0   1.121806    1.149455   -0.975970  0.354561\n",
              "1   1.447066    1.064453   -0.895036 -0.128767"
            ]
          },
          "metadata": {
            "tags": []
          },
          "execution_count": 138
        }
      ]
    },
    {
      "cell_type": "code",
      "metadata": {
        "id": "xX8V3E3vNYVk"
      },
      "source": [
        "X=df_1\n",
        "y = data['Class']"
      ],
      "execution_count": 140,
      "outputs": []
    },
    {
      "cell_type": "code",
      "metadata": {
        "id": "-rCp1C7bPtCN"
      },
      "source": [
        "from sklearn.model_selection import train_test_split\n",
        "X_train, X_test, y_train, y_test = train_test_split(X, y, test_size=0.3)"
      ],
      "execution_count": 141,
      "outputs": []
    },
    {
      "cell_type": "code",
      "metadata": {
        "id": "ojmOLUyAP-xy"
      },
      "source": [
        "import tensorflow as tf\n",
        "\n",
        "ImageV = tf.feature_column.numeric_column('Image.Var')\n",
        "ImageS\t = tf.feature_column.numeric_column('Image.Skew')\n",
        "ImageC = tf.feature_column.numeric_column('Image.Curt')\n",
        "Entropy = tf.feature_column.numeric_column('Entropy')\n",
        "\n",
        "feature_columns = [ImageV,ImageS,ImageC,Entropy]\n",
        "classifier = tf.estimator.DNNClassifier(feature_columns=feature_columns,hidden_units=[10, 20, 10], n_classes=2)"
      ],
      "execution_count": null,
      "outputs": []
    },
    {
      "cell_type": "code",
      "metadata": {
        "id": "YyJZwZczmCzr"
      },
      "source": [
        "sess = tf.compat.v1.Session()"
      ],
      "execution_count": 85,
      "outputs": []
    },
    {
      "cell_type": "code",
      "metadata": {
        "id": "U1xPOX8vQI-C",
        "outputId": "760419c2-d7ac-45e3-e462-f4f547f8a4c3",
        "colab": {
          "base_uri": "https://localhost:8080/",
          "height": 428
        }
      },
      "source": [
        "input_func = tf.compat.v1.estimator.inputs.pandas_input_fn(X_train, y_train, batch_size = 10,num_epochs=None, shuffle=True)\n",
        "classifier.train(input_fn= input_func, steps = 200)"
      ],
      "execution_count": 143,
      "outputs": [
        {
          "output_type": "stream",
          "text": [
            "INFO:tensorflow:Calling model_fn.\n",
            "WARNING:tensorflow:Layer dnn is casting an input tensor from dtype float64 to the layer's dtype of float32, which is new behavior in TensorFlow 2.  The layer has dtype float32 because its dtype defaults to floatx.\n",
            "\n",
            "If you intended to run this layer in float32, you can safely ignore this warning. If in doubt, this warning is likely only an issue if you are porting a TensorFlow 1.X model to TensorFlow 2.\n",
            "\n",
            "To change all layers to have dtype float64 by default, call `tf.keras.backend.set_floatx('float64')`. To change just this layer, pass dtype='float64' to the layer constructor. If you are the author of this layer, you can disable autocasting by passing autocast=False to the base Layer constructor.\n",
            "\n",
            "INFO:tensorflow:Done calling model_fn.\n",
            "INFO:tensorflow:Create CheckpointSaverHook.\n",
            "INFO:tensorflow:Graph was finalized.\n",
            "INFO:tensorflow:Running local_init_op.\n",
            "INFO:tensorflow:Done running local_init_op.\n",
            "INFO:tensorflow:Calling checkpoint listeners before saving checkpoint 0...\n",
            "INFO:tensorflow:Saving checkpoints for 0 into /tmp/tmpdp53h8xi/model.ckpt.\n",
            "INFO:tensorflow:Calling checkpoint listeners after saving checkpoint 0...\n",
            "INFO:tensorflow:loss = 0.6341359, step = 0\n",
            "INFO:tensorflow:global_step/sec: 330.777\n",
            "INFO:tensorflow:loss = 0.65614396, step = 100 (0.302 sec)\n",
            "INFO:tensorflow:Calling checkpoint listeners before saving checkpoint 200...\n",
            "INFO:tensorflow:Saving checkpoints for 200 into /tmp/tmpdp53h8xi/model.ckpt.\n",
            "INFO:tensorflow:Calling checkpoint listeners after saving checkpoint 200...\n",
            "INFO:tensorflow:Loss for final step: 0.63374436.\n"
          ],
          "name": "stdout"
        },
        {
          "output_type": "execute_result",
          "data": {
            "text/plain": [
              "<tensorflow_estimator.python.estimator.canned.dnn.DNNClassifierV2 at 0x7fa03c7e43c8>"
            ]
          },
          "metadata": {
            "tags": []
          },
          "execution_count": 143
        }
      ]
    },
    {
      "cell_type": "code",
      "metadata": {
        "id": "FdLJLYcfZkuh"
      },
      "source": [
        "pred_input_func = tf.compat.v1.estimator.inputs.pandas_input_fn(X_test, batch_size = 10,num_epochs=1, shuffle=False)\n",
        "pred = classifier.predict(pred_input_func)\n",
        "# prediction = list(pred)"
      ],
      "execution_count": 168,
      "outputs": []
    },
    {
      "cell_type": "code",
      "metadata": {
        "id": "o6PwjpDNtg9l"
      },
      "source": [
        "while(True):\n",
        "    try:\n",
        "        print(next(pred))\n",
        "    except:\n",
        "        break"
      ],
      "execution_count": 167,
      "outputs": []
    }
  ]
}