{
  "nbformat": 4,
  "nbformat_minor": 0,
  "metadata": {
    "colab": {
      "name": "Untitled0.ipynb",
      "provenance": [],
      "collapsed_sections": [],
      "mount_file_id": "1XzS2XWmCKTroflR4P1s_Mfu5z8KD09SH",
      "authorship_tag": "ABX9TyPzIPlNU5lVr3q2gOL4UfQm",
      "include_colab_link": true
    },
    "kernelspec": {
      "name": "python3",
      "display_name": "Python 3"
    }
  },
  "cells": [
    {
      "cell_type": "markdown",
      "metadata": {
        "id": "view-in-github",
        "colab_type": "text"
      },
      "source": [
        "<a href=\"https://colab.research.google.com/github/msuraj248/DeepLearning/blob/Keras/VGG16_model.ipynb\" target=\"_parent\"><img src=\"https://colab.research.google.com/assets/colab-badge.svg\" alt=\"Open In Colab\"/></a>"
      ]
    },
    {
      "cell_type": "code",
      "metadata": {
        "id": "cWstmZSZTIW-",
        "colab_type": "code",
        "colab": {}
      },
      "source": [
        "import tensorflow as tf\n",
        "from tensorflow import  keras\n",
        "from tensorflow.keras.layers import Dense, Activation, Flatten\n",
        "from keras.layers.convolutional import *\n",
        "from keras.layers.pooling import *\n",
        "from tensorflow.keras.metrics import categorical_crossentropy\n",
        "from tensorflow.keras.optimizers import Adam\n",
        "from tensorflow.keras.models import Sequential\n",
        "from tensorflow.keras.preprocessing.image import ImageDataGenerator\n",
        "from sklearn.metrics import confusion_matrix\n",
        "import matplotlib.pyplot as plt\n",
        "import warnings\n",
        "warnings.simplefilter(action='ignore',category=FutureWarning)\n",
        "tf.compat.v1.disable_eager_execution()"
      ],
      "execution_count": 3,
      "outputs": []
    },
    {
      "cell_type": "code",
      "metadata": {
        "id": "JN6PO5vqSILU",
        "colab_type": "code",
        "colab": {}
      },
      "source": [
        "train_path = 'drive/My Drive/CNN/train'\n",
        "valid_path = 'drive/My Drive/CNN/valid'\n",
        "test_path = 'drive/My Drive/CNN/test'"
      ],
      "execution_count": 9,
      "outputs": []
    },
    {
      "cell_type": "code",
      "metadata": {
        "id": "Fx3j4hBmS_Rx",
        "colab_type": "code",
        "colab": {
          "base_uri": "https://localhost:8080/",
          "height": 68
        },
        "outputId": "3950706a-818e-410c-eaca-ab4489c0357c"
      },
      "source": [
        "train_batches = ImageDataGenerator(preprocessing_function= tf.keras.applications.vgg16.preprocess_input)\\\n",
        "                  .flow_from_directory(directory= train_path, target_size = (224,224), classes = ['cat', 'dog'], batch_size=10)\n",
        "valid_batches = ImageDataGenerator(preprocessing_function= tf.keras.applications.vgg16.preprocess_input)\\\n",
        "                  .flow_from_directory(directory= valid_path, target_size = (224,224), classes = ['cat', 'dog'], batch_size=10)\n",
        "test_batches = ImageDataGenerator(preprocessing_function= tf.keras.applications.vgg16.preprocess_input)\\\n",
        "                  .flow_from_directory(directory= test_path, target_size = (224,224), classes = ['cat', 'dog'], batch_size=10, shuffle = False)"
      ],
      "execution_count": 10,
      "outputs": [
        {
          "output_type": "stream",
          "text": [
            "Found 1000 images belonging to 2 classes.\n",
            "Found 200 images belonging to 2 classes.\n",
            "Found 100 images belonging to 2 classes.\n"
          ],
          "name": "stdout"
        }
      ]
    },
    {
      "cell_type": "code",
      "metadata": {
        "id": "XWEFt_K-_1I-",
        "colab_type": "code",
        "colab": {
          "base_uri": "https://localhost:8080/",
          "height": 71
        },
        "outputId": "30b99e9d-26c8-42ec-e566-9eb89421c816"
      },
      "source": [
        " vgg16_model = tf.keras.applications.vgg16.VGG16()"
      ],
      "execution_count": 4,
      "outputs": [
        {
          "output_type": "stream",
          "text": [
            "Downloading data from https://storage.googleapis.com/tensorflow/keras-applications/vgg16/vgg16_weights_tf_dim_ordering_tf_kernels.h5\n",
            "553467904/553467096 [==============================] - 4s 0us/step\n"
          ],
          "name": "stdout"
        }
      ]
    },
    {
      "cell_type": "code",
      "metadata": {
        "id": "T30dwu-eUjDQ",
        "colab_type": "code",
        "colab": {}
      },
      "source": [
        "vgg16_model.summary()"
      ],
      "execution_count": null,
      "outputs": []
    },
    {
      "cell_type": "code",
      "metadata": {
        "id": "hCY9GLwxUsjF",
        "colab_type": "code",
        "colab": {}
      },
      "source": [
        "# def count_params(model):\n",
        "#   non_trainable_params = np.sum([np.prod(v.get_shape().as_list()) for v in model.non_trainable_weights]) \n",
        "#   trainable_params = np.sum([np.prod(v.get_shape().as_list()) for v in model.trainable_weights])\n",
        "#   return {'non_trainable_params':non_trainable_params , 'trainable_params': trainable_params }"
      ],
      "execution_count": 52,
      "outputs": []
    },
    {
      "cell_type": "code",
      "metadata": {
        "id": "Umjg2EihV_CX",
        "colab_type": "code",
        "colab": {}
      },
      "source": [
        "# params = count_params(vgg16_model)\n",
        "# assert params['non_trainable_params'] == 0\n",
        "# assert params['trainable_params'] == 138357544"
      ],
      "execution_count": 55,
      "outputs": []
    },
    {
      "cell_type": "code",
      "metadata": {
        "id": "f6X9XPt9Wfzy",
        "colab_type": "code",
        "colab": {}
      },
      "source": [
        "model = Sequential()\n",
        "for layer in vgg16_model.layers[:-1]:\n",
        "  model.add(layer)"
      ],
      "execution_count": 5,
      "outputs": []
    },
    {
      "cell_type": "code",
      "metadata": {
        "id": "LmVV2nIIXAEo",
        "colab_type": "code",
        "colab": {}
      },
      "source": [
        "model.summary()"
      ],
      "execution_count": null,
      "outputs": []
    },
    {
      "cell_type": "code",
      "metadata": {
        "id": "e9sajTGAXegA",
        "colab_type": "code",
        "colab": {}
      },
      "source": [
        "# params = count_params(model)\n",
        "# assert params['non_trainable_params'] == 0\n",
        "# assert params['trainable_params'] == 134260544"
      ],
      "execution_count": 58,
      "outputs": []
    },
    {
      "cell_type": "code",
      "metadata": {
        "id": "Z6uyGtl0YFa2",
        "colab_type": "code",
        "colab": {}
      },
      "source": [
        "for layer in model.layers:\n",
        "  layer.trainable = False"
      ],
      "execution_count": 6,
      "outputs": []
    },
    {
      "cell_type": "code",
      "metadata": {
        "id": "TJUvZBpRYZYN",
        "colab_type": "code",
        "colab": {}
      },
      "source": [
        "model.add(Dense(2, activation='softmax'))\n",
        "model.summary()"
      ],
      "execution_count": null,
      "outputs": []
    },
    {
      "cell_type": "code",
      "metadata": {
        "id": "cX8YBzZNYoSl",
        "colab_type": "code",
        "colab": {}
      },
      "source": [
        "# params = count_params(model)\n",
        "# assert params['non_trainable_params'] == 134260544\n",
        "# assert params['trainable_params'] == 8194"
      ],
      "execution_count": 61,
      "outputs": []
    },
    {
      "cell_type": "code",
      "metadata": {
        "id": "-jzllODIDTVh",
        "colab_type": "code",
        "colab": {
          "base_uri": "https://localhost:8080/",
          "height": 275
        },
        "outputId": "968f8e67-4beb-4463-9f60-63d0a50b73e0"
      },
      "source": [
        "model.compile(optimizer=Adam(learning_rate=0.0001), loss='categorical_crossentropy', metrics=['accuracy'])\n",
        "model.fit(x = train_batches  ,validation_data= valid_batches, epochs=5, verbose=2)"
      ],
      "execution_count": 12,
      "outputs": [
        {
          "output_type": "stream",
          "text": [
            "Epoch 1/5\n",
            "WARNING:tensorflow:From /usr/local/lib/python3.6/dist-packages/tensorflow/python/keras/engine/training_v1.py:2048: Model.state_updates (from tensorflow.python.keras.engine.training) is deprecated and will be removed in a future version.\n",
            "Instructions for updating:\n",
            "This property should not be used in TensorFlow 2.0, as updates are applied automatically.\n",
            "100/100 - 616s - loss: 0.2793 - accuracy: 0.8920 - val_loss: 0.1334 - val_accuracy: 0.9450\n",
            "Epoch 2/5\n",
            "100/100 - 613s - loss: 0.1005 - accuracy: 0.9630 - val_loss: 0.0940 - val_accuracy: 0.9750\n",
            "Epoch 3/5\n",
            "100/100 - 610s - loss: 0.0718 - accuracy: 0.9730 - val_loss: 0.0641 - val_accuracy: 0.9700\n",
            "Epoch 4/5\n",
            "100/100 - 610s - loss: 0.0499 - accuracy: 0.9850 - val_loss: 0.0554 - val_accuracy: 0.9750\n",
            "Epoch 5/5\n",
            "100/100 - 614s - loss: 0.0380 - accuracy: 0.9860 - val_loss: 0.0494 - val_accuracy: 0.9750\n"
          ],
          "name": "stdout"
        },
        {
          "output_type": "execute_result",
          "data": {
            "text/plain": [
              "<tensorflow.python.keras.callbacks.History at 0x7eff13a4ea90>"
            ]
          },
          "metadata": {
            "tags": []
          },
          "execution_count": 12
        }
      ]
    },
    {
      "cell_type": "code",
      "metadata": {
        "id": "5x4d3KFKJgny",
        "colab_type": "code",
        "colab": {
          "base_uri": "https://localhost:8080/",
          "height": 102
        },
        "outputId": "51f5de48-adeb-44f0-cd8c-2470695525cc"
      },
      "source": [
        "predictions = model.predict(x = test_batches, verbose=0)\n",
        "test_batches.classes"
      ],
      "execution_count": 13,
      "outputs": [
        {
          "output_type": "execute_result",
          "data": {
            "text/plain": [
              "array([0, 0, 0, 0, 0, 0, 0, 0, 0, 0, 0, 0, 0, 0, 0, 0, 0, 0, 0, 0, 0, 0,\n",
              "       0, 0, 0, 0, 0, 0, 0, 0, 0, 0, 0, 0, 0, 0, 0, 0, 0, 0, 0, 0, 0, 0,\n",
              "       0, 0, 0, 0, 0, 0, 1, 1, 1, 1, 1, 1, 1, 1, 1, 1, 1, 1, 1, 1, 1, 1,\n",
              "       1, 1, 1, 1, 1, 1, 1, 1, 1, 1, 1, 1, 1, 1, 1, 1, 1, 1, 1, 1, 1, 1,\n",
              "       1, 1, 1, 1, 1, 1, 1, 1, 1, 1, 1, 1], dtype=int32)"
            ]
          },
          "metadata": {
            "tags": []
          },
          "execution_count": 13
        }
      ]
    },
    {
      "cell_type": "code",
      "metadata": {
        "id": "m6fIgK89KDbv",
        "colab_type": "code",
        "colab": {}
      },
      "source": [
        "import numpy as np\n",
        "cm = confusion_matrix(y_true = test_batches.classes, y_pred = np.argmax(predictions, axis = -1))"
      ],
      "execution_count": 17,
      "outputs": []
    },
    {
      "cell_type": "code",
      "metadata": {
        "id": "CjEq7WdMRzgU",
        "colab_type": "code",
        "colab": {
          "base_uri": "https://localhost:8080/",
          "height": 51
        },
        "outputId": "aece3fe6-78e6-44a7-bbda-f70230de136f"
      },
      "source": [
        "cm"
      ],
      "execution_count": 18,
      "outputs": [
        {
          "output_type": "execute_result",
          "data": {
            "text/plain": [
              "array([[49,  1],\n",
              "       [ 1, 49]])"
            ]
          },
          "metadata": {
            "tags": []
          },
          "execution_count": 18
        }
      ]
    }
  ]
}